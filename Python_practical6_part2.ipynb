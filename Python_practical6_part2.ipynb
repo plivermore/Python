{
 "cells": [
  {
   "cell_type": "markdown",
   "metadata": {},
   "source": [
    "### Formative assessment"
   ]
  },
  {
   "cell_type": "markdown",
   "metadata": {},
   "source": [
    "This notebook is further practice using Python, set in the style of the assessment you will sit.\n",
    "There are 25 marks available. \n",
    "\n",
    "At the end of the practical, make sure you can export your notebook to a pdf.\n",
    "(To do this, use File -> Download as ->  PDF via LaTex).\n",
    "\n",
    "The file forestfires.csv contains information relating to a database of forest-fires.\n",
    "\n",
    "**Reference**: P. Cortez and A. Morais. A Data Mining Approach to Predict Forest Fires using Meteorological Data.    In J. Neves, M. F. Santos and J. Machado Eds., New Trends in Artificial Intelligence,    Proceedings of the 13th EPIA 2007 - Portuguese Conference on Artificial Intelligence, December,    Guimaraes, Portugal, pp. 512-523, 2007. APPIA, ISBN-13 978-989-95618-0-9.    Available at: http://www.dsi.uminho.pt/~pcortez/fires.pdf"
   ]
  },
  {
   "cell_type": "markdown",
   "metadata": {},
   "source": [
    "Copy the file: forestfires.csv, from the usual location, across to your home filespace."
   ]
  },
  {
   "cell_type": "code",
   "execution_count": 1,
   "metadata": {},
   "outputs": [],
   "source": [
    "# load the data\n",
    "import numpy as np\n",
    "data = np.loadtxt('forestfires.csv',delimiter = ',',skiprows=1, usecols = (8,9,10,11,12)   )"
   ]
  },
  {
   "cell_type": "raw",
   "metadata": {},
   "source": [
    "The columns of data give (in order) the Temperature (C), RH (relative humidity in %), wind speed (km/hr), rainfall (mm/m^2), area burnt (in hectares)."
   ]
  },
  {
   "cell_type": "markdown",
   "metadata": {},
   "source": [
    "1. Display to the screen in one output line, showing numbers to 2 decimal places: the maximum, minimium and average value for the burnt area over the forest fires recorded in the database.  [4]"
   ]
  },
  {
   "cell_type": "markdown",
   "metadata": {},
   "source": [
    "2. What was the ambient temperature when the fire of maximum area occurred?  [2]"
   ]
  },
  {
   "cell_type": "markdown",
   "metadata": {},
   "source": [
    "3. A client is interested in the number of fires that fall within the burnt area ranges: 0-50, 50-100, 100-150. Add code to your script to find the number of fires that fall within each category.  [6]"
   ]
  },
  {
   "cell_type": "markdown",
   "metadata": {},
   "source": [
    "4. The client is further interested in the same measure of spread of burnt-area but for fires with a wind speed of at least 3 km/hr. Copy, paste and modify your code for 1b to display the number of fires within each of the three modified categories. [2]"
   ]
  },
  {
   "cell_type": "markdown",
   "metadata": {},
   "source": [
    "5. The (X,Y) position of the fires can be loaded using the command below. \n",
    "\n",
    "Find the maximum value of the burnt area over those fires that satisfy:\n",
    "- a wind speed of at least 4 km/hr.\n",
    "- a temperature of no more than 23.0 C.\n",
    "- an X-position of 5 or less.                 [3]"
   ]
  },
  {
   "cell_type": "code",
   "execution_count": 4,
   "metadata": {},
   "outputs": [],
   "source": [
    "(X,Y) = np.loadtxt('forestfires.csv',delimiter = ',',skiprows=1, usecols = (0,1), unpack=True   )\n"
   ]
  },
  {
   "cell_type": "markdown",
   "metadata": {},
   "source": [
    "6. Another client would like a plot of the whole database of burnt-area against ambient temperature, showing each data point as a filled circle. In order to distinguish the different relative-humidity ranges, plot circles corresponding to RH values of 0-30 as blue, 30-60 as red, 60-100 as green.   [8]"
   ]
  },
  {
   "cell_type": "code",
   "execution_count": null,
   "metadata": {},
   "outputs": [],
   "source": []
  },
  {
   "cell_type": "code",
   "execution_count": null,
   "metadata": {},
   "outputs": [],
   "source": []
  }
 ],
 "metadata": {
  "kernelspec": {
   "display_name": "Python 3",
   "language": "python",
   "name": "python3"
  },
  "language_info": {
   "codemirror_mode": {
    "name": "ipython",
    "version": 3
   },
   "file_extension": ".py",
   "mimetype": "text/x-python",
   "name": "python",
   "nbconvert_exporter": "python",
   "pygments_lexer": "ipython3",
   "version": "3.8.5"
  }
 },
 "nbformat": 4,
 "nbformat_minor": 5
}
